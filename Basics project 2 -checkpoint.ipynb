{
 "cells": [
  {
   "cell_type": "markdown",
   "id": "49827baf-4643-4aa9-ab4b-470a4ee8287f",
   "metadata": {},
   "source": [
    "# List/If/Else\n",
    "\r\n",
    "A list stores a series of items in a particular order. You \r\n",
    "access items using an index, or within a loop\n",
    "\n",
    " A list is a sequence of elements separated by commas,\r\n",
    " an di nbetwee nsquar ebracket s[\n",
    "\n",
    " An if/else construct checks whether a condition is true or false,\r\n",
    " an dexecute scod eaccordingly\n",
    " :\r\n",
    " if the condition is met, t heco deund ert he ifconditi on isexecuted;\r\n",
    " if the condition is not met, thec odeun dere ls eisexecu.ted]. "
   ]
  },
  {
   "cell_type": "code",
   "execution_count": 1,
   "id": "2466e5c3-6108-4e41-ae14-4ac8c5fbb8e3",
   "metadata": {},
   "outputs": [
    {
     "name": "stdout",
     "output_type": "stream",
     "text": [
      "['Learn Python', 'python for all', 'Intro to Python']\n"
     ]
    }
   ],
   "source": [
    "books = [\"Learn Python\", \"python for all\", \"Intro to Python\"]\n",
    "print (books)"
   ]
  },
  {
   "cell_type": "code",
   "execution_count": 2,
   "id": "263855a4-1772-4cbb-a762-a441ebd678d5",
   "metadata": {},
   "outputs": [
    {
     "name": "stdin",
     "output_type": "stream",
     "text": [
      "Hi! what book would you like to Buy? Python\n"
     ]
    },
    {
     "name": "stdout",
     "output_type": "stream",
     "text": [
      "Python\n"
     ]
    }
   ],
   "source": [
    "wanted_book = input(\"Hi! what book would you like to Buy?\")\n",
    "print (wanted_book)"
   ]
  },
  {
   "cell_type": "code",
   "execution_count": 4,
   "id": "8569d9e9-11ff-4b7e-a22f-f3c03a855534",
   "metadata": {},
   "outputs": [
    {
     "name": "stdout",
     "output_type": "stream",
     "text": [
      "Sorry, we do not sell that Book\n"
     ]
    }
   ],
   "source": [
    "if wanted_book in books:\n",
    "    print (\"yes, we sell it!\")\n",
    "else:\n",
    "    print (\"Sorry, we do not sell that Book\")"
   ]
  },
  {
   "cell_type": "code",
   "execution_count": 5,
   "id": "cb4590ff-6307-4863-b931-9ee970459bb7",
   "metadata": {},
   "outputs": [
    {
     "name": "stdout",
     "output_type": "stream",
     "text": [
      "['carrots', 'chocolate', 'olives']\n"
     ]
    }
   ],
   "source": [
    "shopping_list = [\"carrots\", \"chocolate\", \"olives\"]\n",
    "\n",
    "print(shopping_list)"
   ]
  },
  {
   "cell_type": "code",
   "execution_count": 6,
   "id": "b5bc5bb3-10d1-44de-9e87-a4e10b2021f3",
   "metadata": {},
   "outputs": [
    {
     "name": "stdin",
     "output_type": "stream",
     "text": [
      "what else do i have to buy? Carrots\n"
     ]
    },
    {
     "name": "stdout",
     "output_type": "stream",
     "text": [
      "['carrots', 'chocolate', 'olives', 'Carrots']\n"
     ]
    }
   ],
   "source": [
    "new_item = input (\"what else do i have to buy?\")\n",
    "\n",
    "if new_item in shopping_list:\n",
    "    print (new_item + \" is/are already in the shopping list\")\n",
    "\n",
    "    print (shopping_list)\n",
    "\n",
    "else:\n",
    "    shopping_list.append(new_item)\n",
    "    print (shopping_list)"
   ]
  },
  {
   "cell_type": "markdown",
   "id": "ada3cc98-5075-4c21-8116-ae926d1d3629",
   "metadata": {},
   "source": [
    "# Tuples\n",
    "\n",
    "Tuples are similar to lists, but the items in a tuple can't be \r\n",
    "modified "
   ]
  },
  {
   "cell_type": "code",
   "execution_count": 18,
   "id": "377bb970-9069-46e3-984d-ee8ba3afc200",
   "metadata": {},
   "outputs": [],
   "source": [
    "dimensions = (1920, 1080)"
   ]
  },
  {
   "cell_type": "code",
   "execution_count": 26,
   "id": "0711f132-8641-4bca-a6ac-cd77bd849a0d",
   "metadata": {},
   "outputs": [
    {
     "name": "stdout",
     "output_type": "stream",
     "text": [
      "['burger', 'salad', 'coke']\n"
     ]
    }
   ],
   "source": [
    " todays_menu = [\"burger\", \"salad\", \"coke\"]\n",
    "\n",
    "print (todays_menu)"
   ]
  },
  {
   "cell_type": "code",
   "execution_count": 27,
   "id": "6943eedc-b8f1-4d0b-893a-24c137acc000",
   "metadata": {},
   "outputs": [
    {
     "name": "stdout",
     "output_type": "stream",
     "text": [
      "1\n"
     ]
    }
   ],
   "source": [
    "side_dish_index = todays_menu.index(\"salad\")\n",
    "\n",
    "print (side_dish_index)"
   ]
  },
  {
   "cell_type": "code",
   "execution_count": 28,
   "id": "f22697bb-5f0b-443c-bc72-f868e0573a1d",
   "metadata": {},
   "outputs": [
    {
     "name": "stdout",
     "output_type": "stream",
     "text": [
      "['burger', 'coke']\n"
     ]
    }
   ],
   "source": [
    "todays_menu.pop(side_dish_index)\n",
    "print (todays_menu)"
   ]
  },
  {
   "cell_type": "code",
   "execution_count": 29,
   "id": "ee27b0e4-9cf5-4af1-8149-19596e07e1f1",
   "metadata": {},
   "outputs": [
    {
     "name": "stdout",
     "output_type": "stream",
     "text": [
      "['burger', 'fries', 'coke']\n"
     ]
    }
   ],
   "source": [
    "todays_menu.insert(side_dish_index, \"fries\")\n",
    "print (todays_menu)"
   ]
  },
  {
   "cell_type": "markdown",
   "id": "bf811f5e-c1b4-4858-bd46-d8a219d989ba",
   "metadata": {},
   "source": [
    "# List Slicing\n",
    "\n",
    " Slicing means accessing list elements through their indices."
   ]
  },
  {
   "cell_type": "code",
   "execution_count": 30,
   "id": "c5586e46-8355-4f86-be14-3f04e1fcad4b",
   "metadata": {},
   "outputs": [
    {
     "name": "stdout",
     "output_type": "stream",
     "text": [
      "['San Diego', 'Prague', 'Cape Town', 'Tokyo', 'Melbourne']\n"
     ]
    }
   ],
   "source": [
    " cities = [\"San Diego\", \"Prague\", \"Cape Town\", \"Tokyo\",\n",
    " \"Melbourne\"]\n",
    "\n",
    "print (cities)"
   ]
  },
  {
   "cell_type": "code",
   "execution_count": 34,
   "id": "6abcd110-1d9d-467f-a09e-e6a3bbadc5f3",
   "metadata": {},
   "outputs": [
    {
     "name": "stdout",
     "output_type": "stream",
     "text": [
      "Prague\n"
     ]
    }
   ],
   "source": [
    "sliced_city = cities[1]\n",
    "\n",
    "print (cities[1])"
   ]
  },
  {
   "cell_type": "code",
   "execution_count": 35,
   "id": "409f8e4b-d4db-4911-80d8-4b292eee37cd",
   "metadata": {},
   "outputs": [
    {
     "name": "stdout",
     "output_type": "stream",
     "text": [
      "['Prague', 'Cape Town', 'Tokyo']\n"
     ]
    }
   ],
   "source": [
    " print (cities[1:4])"
   ]
  },
  {
   "cell_type": "code",
   "execution_count": 36,
   "id": "c5e81d27-433b-442b-ba7d-b8b1dc97f422",
   "metadata": {},
   "outputs": [
    {
     "name": "stdout",
     "output_type": "stream",
     "text": [
      "['Prague', 'Tokyo']\n"
     ]
    }
   ],
   "source": [
    "print (cities[1:4:2])"
   ]
  },
  {
   "cell_type": "code",
   "execution_count": 37,
   "id": "129a9019-d8f4-4bb3-a715-21b6ff22c17a",
   "metadata": {},
   "outputs": [
    {
     "name": "stdout",
     "output_type": "stream",
     "text": [
      "['Prague', 'Cape Town', 'Tokyo']\n"
     ]
    }
   ],
   "source": [
    "print (cities[1:4:1])"
   ]
  },
  {
   "cell_type": "code",
   "execution_count": 38,
   "id": "64fd4c83-82e6-476d-942b-75848068ae8f",
   "metadata": {},
   "outputs": [
    {
     "name": "stdout",
     "output_type": "stream",
     "text": [
      "['San Diego', 'Prague', 'Cape Town']\n"
     ]
    }
   ],
   "source": [
    "print (cities[0:3])"
   ]
  },
  {
   "cell_type": "code",
   "execution_count": 39,
   "id": "dbf1cc34-0bed-4a53-863f-10b7c848f010",
   "metadata": {},
   "outputs": [
    {
     "name": "stdout",
     "output_type": "stream",
     "text": [
      "['San Diego', 'Prague', 'Cape Town']\n"
     ]
    }
   ],
   "source": [
    "print (cities[:3])"
   ]
  },
  {
   "cell_type": "code",
   "execution_count": 40,
   "id": "1a809db0-b45e-433c-b648-316914a4d79c",
   "metadata": {},
   "outputs": [
    {
     "name": "stdout",
     "output_type": "stream",
     "text": [
      "['Cape Town', 'Tokyo', 'Melbourne']\n"
     ]
    }
   ],
   "source": [
    "print (cities[2:5])"
   ]
  },
  {
   "cell_type": "code",
   "execution_count": 41,
   "id": "baaa5c65-00d2-4d20-b8e6-67b6458794b6",
   "metadata": {},
   "outputs": [
    {
     "name": "stdout",
     "output_type": "stream",
     "text": [
      "['Cape Town', 'Tokyo', 'Melbourne']\n"
     ]
    }
   ],
   "source": [
    "print (cities[2:])"
   ]
  },
  {
   "cell_type": "code",
   "execution_count": 42,
   "id": "0cd8059c-a99c-46f7-9dbe-e33924d2b763",
   "metadata": {},
   "outputs": [
    {
     "name": "stdout",
     "output_type": "stream",
     "text": [
      "['San Diego', 'Cape Town', 'Melbourne']\n"
     ]
    }
   ],
   "source": [
    "print (cities[0:5:2])"
   ]
  },
  {
   "cell_type": "code",
   "execution_count": 43,
   "id": "b069aa97-db6d-4e98-babe-6a051af55106",
   "metadata": {},
   "outputs": [
    {
     "name": "stdout",
     "output_type": "stream",
     "text": [
      "['San Diego', 'Cape Town', 'Melbourne']\n"
     ]
    }
   ],
   "source": [
    "print (cities[::2])"
   ]
  },
  {
   "cell_type": "code",
   "execution_count": 44,
   "id": "dce45467-37fc-4eb9-9904-d6b4f1f1563c",
   "metadata": {},
   "outputs": [
    {
     "name": "stdout",
     "output_type": "stream",
     "text": [
      "Melbourne\n"
     ]
    }
   ],
   "source": [
    "print (cities[4])"
   ]
  },
  {
   "cell_type": "code",
   "execution_count": 45,
   "id": "05e3e083-ed14-44fc-97fe-927aed785870",
   "metadata": {},
   "outputs": [
    {
     "name": "stdout",
     "output_type": "stream",
     "text": [
      "Melbourne\n"
     ]
    }
   ],
   "source": [
    " print (cities[-1])"
   ]
  },
  {
   "cell_type": "code",
   "execution_count": 46,
   "id": "adb95a0e-985f-4b59-825c-92367c79e9e4",
   "metadata": {},
   "outputs": [
    {
     "name": "stdout",
     "output_type": "stream",
     "text": [
      "['Prague', 'Cape Town', 'Tokyo']\n"
     ]
    }
   ],
   "source": [
    "print (cities[-4:-1])"
   ]
  },
  {
   "cell_type": "code",
   "execution_count": 47,
   "id": "699638b9-df0a-4e54-a683-0eec200ec0f7",
   "metadata": {},
   "outputs": [
    {
     "name": "stdout",
     "output_type": "stream",
     "text": [
      "['Tokyo', 'Cape Town', 'Prague']\n"
     ]
    }
   ],
   "source": [
    "print (cities[3:0:-1])"
   ]
  },
  {
   "cell_type": "code",
   "execution_count": 48,
   "id": "be5a937e-26ac-442a-b32b-a14a2f1cceaa",
   "metadata": {},
   "outputs": [
    {
     "name": "stdout",
     "output_type": "stream",
     "text": [
      "['Tokyo', 'Cape Town', 'Prague']\n"
     ]
    }
   ],
   "source": [
    "print (cities[-2:-5:-1])"
   ]
  },
  {
   "cell_type": "code",
   "execution_count": 49,
   "id": "8382c28b-b822-4efe-a40e-a56058e57f3c",
   "metadata": {},
   "outputs": [
    {
     "name": "stdout",
     "output_type": "stream",
     "text": [
      "['Melbourne', 'Tokyo', 'Cape Town', 'Prague', 'San Diego']\n"
     ]
    }
   ],
   "source": [
    " print (cities[::-1])"
   ]
  },
  {
   "cell_type": "markdown",
   "id": "356f3117-470d-4f1c-b57a-453921e2e3cf",
   "metadata": {},
   "source": [
    "#  Senses, planets, and a house\n",
    "\n",
    "Changing, adding, and removinglist elements using slicing"
   ]
  },
  {
   "cell_type": "code",
   "execution_count": 50,
   "id": "8b1aa569-43e8-4445-856c-c8e917b24c67",
   "metadata": {},
   "outputs": [
    {
     "name": "stdout",
     "output_type": "stream",
     "text": [
      "['eyes', 'nose', 'ears', 'tongue', 'skin']\n"
     ]
    }
   ],
   "source": [
    "senses = [\"eyes\", \"nose\", \"ears\", \"tongue\",\n",
    " \"skin\"]\n",
    "\n",
    "print (senses)"
   ]
  },
  {
   "cell_type": "code",
   "execution_count": 51,
   "id": "26b0e304-c461-4759-8dc8-48eae3d9167a",
   "metadata": {},
   "outputs": [
    {
     "name": "stdout",
     "output_type": "stream",
     "text": [
      "['eyes', 'smell', 'ears', 'tongue', 'skin']\n"
     ]
    }
   ],
   "source": [
    " senses[1] = \"smell\"\n",
    "\n",
    "print (senses)"
   ]
  },
  {
   "cell_type": "code",
   "execution_count": 55,
   "id": "b7e1c32f-a587-41bf-aba8-b5c32ceef1d3",
   "metadata": {},
   "outputs": [
    {
     "name": "stdout",
     "output_type": "stream",
     "text": [
      "['eyes', 'smell', 'ears', 'taste', 'touch']\n"
     ]
    }
   ],
   "source": [
    "senses[3:5] = [\"taste\", \"touch\"]\n",
    "\n",
    "print (senses)"
   ]
  },
  {
   "cell_type": "code",
   "execution_count": 56,
   "id": "91e4b085-58c0-4db2-a8a7-5ad294514064",
   "metadata": {},
   "outputs": [
    {
     "name": "stdout",
     "output_type": "stream",
     "text": [
      "['sight', 'smell', 'hearing', 'taste', 'touch']\n"
     ]
    }
   ],
   "source": [
    "senses[0:3:2] = [\"sight\", \"hearing\"]\n",
    "\n",
    "print (senses)"
   ]
  },
  {
   "cell_type": "markdown",
   "id": "2931c3d2-ab26-4815-b606-da73b2436020",
   "metadata": {},
   "source": [
    "# Planets "
   ]
  },
  {
   "cell_type": "code",
   "execution_count": 57,
   "id": "5c5b550b-028b-4105-baf6-6dbad1a067e3",
   "metadata": {},
   "outputs": [
    {
     "name": "stdout",
     "output_type": "stream",
     "text": [
      "['Mercury', 'Mars', 'Earth', 'Neptune']\n"
     ]
    }
   ],
   "source": [
    " planets = [\"Mercury\", \"Mars\", \"Earth\", \"Neptune\"]\n",
    "\n",
    "print (planets)"
   ]
  },
  {
   "cell_type": "code",
   "execution_count": 58,
   "id": "5ae91e7f-7a37-414d-b85d-4750bd4dc857",
   "metadata": {},
   "outputs": [
    {
     "name": "stdout",
     "output_type": "stream",
     "text": [
      "['Mercury', 'Mars', 'Earth', 'Neptune', 'Jupiter']\n"
     ]
    }
   ],
   "source": [
    " planets = planets + [\"Jupiter\"]\n",
    "\n",
    "print (planets)"
   ]
  },
  {
   "cell_type": "code",
   "execution_count": 59,
   "id": "ca4e6114-a02d-4571-bfdf-72546ac77845",
   "metadata": {},
   "outputs": [
    {
     "name": "stdout",
     "output_type": "stream",
     "text": [
      "['Mercury', 'Mars', 'Venus', 'Earth', 'Neptune', 'Jupiter']\n"
     ]
    }
   ],
   "source": [
    " planets = planets[0:2] + [\"Venus\"] + planets[2:5]\n",
    "\n",
    "print (planets)"
   ]
  },
  {
   "cell_type": "code",
   "execution_count": null,
   "id": "61143303-5b47-4dbd-9718-1a702037b01c",
   "metadata": {},
   "outputs": [],
   "source": []
  }
 ],
 "metadata": {
  "kernelspec": {
   "display_name": "Python 3 (ipykernel)",
   "language": "python",
   "name": "python3"
  },
  "language_info": {
   "codemirror_mode": {
    "name": "ipython",
    "version": 3
   },
   "file_extension": ".py",
   "mimetype": "text/x-python",
   "name": "python",
   "nbconvert_exporter": "python",
   "pygments_lexer": "ipython3",
   "version": "3.12.4"
  }
 },
 "nbformat": 4,
 "nbformat_minor": 5
}
